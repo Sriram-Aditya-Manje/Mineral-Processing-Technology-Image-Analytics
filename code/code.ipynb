{
 "cells": [
  {
   "cell_type": "code",
   "execution_count": null,
   "id": "1e6345c4",
   "metadata": {},
   "outputs": [
    {
     "ename": "",
     "evalue": "",
     "output_type": "error",
     "traceback": [
      "\u001b[1;31mRunning cells with 'c:\\Users\\SriramAditya\\AppData\\Local\\Microsoft\\WindowsApps\\python3.11.exe' requires the ipykernel package.\n",
      "\u001b[1;31mRun the following command to install 'ipykernel' into the Python environment. \n",
      "\u001b[1;31mCommand: 'c:/Users/SriramAditya/AppData/Local/Microsoft/WindowsApps/python3.11.exe -m pip install ipykernel -U --user --force-reinstall'"
     ]
    }
   ],
   "source": [
    "import cv2\n",
    "import os\n",
    "import math"
   ]
  },
  {
   "cell_type": "code",
   "execution_count": 93,
   "id": "c2be4354",
   "metadata": {},
   "outputs": [],
   "source": [
    "# Input and output directories\n",
    "input_folder = \"../input\"\n",
    "output_folder = \"../output\"\n",
    "\n",
    "if not os.path.exists(output_folder):\n",
    "    os.makedirs(output_folder)"
   ]
  },
  {
   "cell_type": "code",
   "execution_count": 94,
   "id": "530aa8c1",
   "metadata": {},
   "outputs": [],
   "source": [
    "# Function to calculate the length of the major axis\n",
    "def calculate_major_axis_length(contour):\n",
    "    major_axis_length = 0\n",
    "    for i in range(len(contour)):\n",
    "        for j in range(i + 1, len(contour)):\n",
    "            dist = math.dist(contour[i][0], contour[j][0])\n",
    "            if dist > major_axis_length:\n",
    "                major_axis_length = dist\n",
    "    return major_axis_length"
   ]
  },
  {
   "cell_type": "code",
   "execution_count": 95,
   "id": "8cd438b2",
   "metadata": {},
   "outputs": [],
   "source": [
    "# Function to calculate the start and end points of the major axis\n",
    "def calculate_major_axis_endpoints(contour):\n",
    "    major_axis_length = 0\n",
    "    major_axis_x1, major_axis_y1, major_axis_x2, major_axis_y2 = 0, 0, 0, 0\n",
    "    for i in range(len(contour)):\n",
    "        for j in range(i + 1, len(contour)):\n",
    "            dist = math.dist(contour[i][0], contour[j][0])\n",
    "            if dist > major_axis_length:\n",
    "                major_axis_length = dist\n",
    "                major_axis_x1, major_axis_y1 = contour[i][0]\n",
    "                major_axis_x2, major_axis_y2 = contour[j][0]\n",
    "    return major_axis_x1, major_axis_y1, major_axis_x2, major_axis_y2"
   ]
  },
  {
   "cell_type": "code",
   "execution_count": 96,
   "id": "80ba00cd",
   "metadata": {},
   "outputs": [],
   "source": [
    "# Function to calculate and draw a specific property on the image\n",
    "def calculate_and_draw_property(image, contour, property_name):\n",
    "    text_color = (0, 0, 255)  # Red color\n",
    "    \n",
    "    if property_name == 'Area':\n",
    "        area = cv2.contourArea(contour)\n",
    "        cv2.putText(image, f\"Total surface area = {area:.2f} pixels\", (10, 20), cv2.FONT_HERSHEY_SIMPLEX, 0.5, text_color, 2)\n",
    "        \n",
    "    elif property_name == 'Perimeter':\n",
    "        perimeter = cv2.arcLength(contour, closed=True)\n",
    "        cv2.putText(image, f\"Perimeter = {perimeter:.2f} pixels\", (10, 20), cv2.FONT_HERSHEY_SIMPLEX, 0.5, text_color, 2)\n",
    "        cv2.drawContours(image, [contour], -1, text_color, 2)\n",
    "        \n",
    "    elif property_name == 'MajorAxis':\n",
    "        major_axis_length = calculate_major_axis_length(contour)\n",
    "        major_axis_x1, major_axis_y1, major_axis_x2, major_axis_y2 = calculate_major_axis_endpoints(contour)\n",
    "        cv2.line(image, (major_axis_x1, major_axis_y1), (major_axis_x2, major_axis_y2), text_color, 2)\n",
    "        cv2.putText(image, f\"Major Axis Length = {major_axis_length:.2f} pixels\", (10, 20), cv2.FONT_HERSHEY_SIMPLEX, 0.5, text_color, 2)\n",
    "        \n",
    "    elif property_name == 'Centroid':\n",
    "        moments = cv2.moments(contour)\n",
    "        centroid_x = int(moments[\"m10\"] / moments[\"m00\"])\n",
    "        centroid_y = int(moments[\"m01\"] / moments[\"m00\"])\n",
    "        cv2.circle(image, (centroid_x, centroid_y), 3, text_color, -1)  # Draw the centroid point\n",
    "        cv2.putText(image, f\"Centroid = ({centroid_x}, {centroid_y})\", (10, 20), cv2.FONT_HERSHEY_SIMPLEX, 0.5, text_color, 2)\n",
    "        \n",
    "    elif property_name == 'Circle':\n",
    "        (enclosing_circle_x, enclosing_circle_y), enclosing_circle_radius = cv2.minEnclosingCircle(contour)\n",
    "        cv2.circle(image, (int(enclosing_circle_x), int(enclosing_circle_y)), int(enclosing_circle_radius), text_color, 2)"
   ]
  },
  {
   "cell_type": "code",
   "execution_count": 97,
   "id": "d73e442a",
   "metadata": {},
   "outputs": [
    {
     "name": "stdout",
     "output_type": "stream",
     "text": [
      "img1.png is proccessed\n",
      "img2.png is proccessed\n",
      "img3.png is proccessed\n",
      "img4.png is proccessed\n",
      "img5.png is proccessed\n",
      "Processing complete. 'output' folder shall contain results\n"
     ]
    }
   ],
   "source": [
    "# Process each image in the input folder\n",
    "for filename in os.listdir(input_folder):\n",
    "    \n",
    "    if filename.endswith(\".jpg\") or filename.endswith(\".png\"):\n",
    "        \n",
    "        curent_image = cv2.imread(os.path.join(input_folder, filename))\n",
    "        \n",
    "        properties = ['Area', 'Perimeter', 'MajorAxis', 'Centroid', 'Circle']\n",
    "        for property_name in properties:\n",
    "            image = curent_image.copy()\n",
    "            gray = cv2.cvtColor(image, cv2.COLOR_BGR2GRAY)\n",
    "            edges = cv2.Canny(gray, threshold1=30, threshold2=100)\n",
    "            contours, _ = cv2.findContours(edges, cv2.RETR_EXTERNAL, cv2.CHAIN_APPROX_SIMPLE)\n",
    "        \n",
    "            for contour in contours:\n",
    "                image_copy = image.copy()\n",
    "                calculate_and_draw_property(image_copy, contour, property_name)\n",
    "                \n",
    "                name = filename.split('.')[0] + \"_outputs\"\n",
    "                output_folde = \"../output/\"+name\n",
    "                if not os.path.exists(output_folde):\n",
    "                    os.makedirs(output_folde)\n",
    "                output_filename = os.path.join(output_folde, f\"{filename.split('.')[0]}_{property_name}.png\")\n",
    "                cv2.imwrite(output_filename, image_copy)\n",
    "        print(f\"{filename} is proccessed\")\n",
    "\n",
    "print(\"Processing complete. 'output' folder shall contain results\")"
   ]
  },
  {
   "cell_type": "code",
   "execution_count": null,
   "id": "7c71edd7",
   "metadata": {},
   "outputs": [],
   "source": []
  }
 ],
 "metadata": {
  "kernelspec": {
   "display_name": "Python 3 (ipykernel)",
   "language": "python",
   "name": "python3"
  },
  "language_info": {
   "codemirror_mode": {
    "name": "ipython",
    "version": 3
   },
   "file_extension": ".py",
   "mimetype": "text/x-python",
   "name": "python",
   "nbconvert_exporter": "python",
   "pygments_lexer": "ipython3",
   "version": "3.11.5"
  }
 },
 "nbformat": 4,
 "nbformat_minor": 5
}
